{
  "nbformat": 4,
  "nbformat_minor": 0,
  "metadata": {
    "colab": {
      "provenance": []
    },
    "kernelspec": {
      "name": "python3",
      "display_name": "Python 3"
    },
    "language_info": {
      "name": "python"
    }
  },
  "cells": [
    {
      "cell_type": "markdown",
      "source": [
        "Welcome to my code about Real Estate prices and learning about what can affect the location of the most important part about houses; their price! For the first lines here, the code reaches and generates the CSV file from the website Kagglehub. It goes directly through your computer to find the path and directory that leads to the csv file so the code can access it."
      ],
      "metadata": {
        "id": "HdAn4eGz7zEA"
      }
    },
    {
      "cell_type": "code",
      "execution_count": 1,
      "metadata": {
        "colab": {
          "base_uri": "https://localhost:8080/"
        },
        "id": "zNc95yS1mS-n",
        "outputId": "44833556-187a-4229-9b89-36f4a0ae5164"
      },
      "outputs": [
        {
          "output_type": "stream",
          "name": "stdout",
          "text": [
            "Warning: Looks like you're using an outdated `kagglehub` version (installed: 0.3.10), please consider upgrading to the latest version (0.3.11).\n",
            "Downloading from https://www.kaggle.com/api/v1/datasets/download/fratzcan/usa-house-prices?dataset_version_number=1...\n"
          ]
        },
        {
          "output_type": "stream",
          "name": "stderr",
          "text": [
            "100%|██████████| 119k/119k [00:00<00:00, 61.4MB/s]"
          ]
        },
        {
          "output_type": "stream",
          "name": "stdout",
          "text": [
            "Extracting files...\n",
            "Path to dataset files: /root/.cache/kagglehub/datasets/fratzcan/usa-house-prices/versions/1\n",
            "Files in dataset folder: ['USA Housing Dataset.csv']\n",
            "<class 'pandas.core.frame.DataFrame'>\n"
          ]
        },
        {
          "output_type": "stream",
          "name": "stderr",
          "text": [
            "\n"
          ]
        }
      ],
      "source": [
        "import kagglehub\n",
        "import pandas as pd\n",
        "import numpy as np\n",
        "import os\n",
        "import matplotlib.pyplot as plt\n",
        "import seaborn as sns\n",
        "from tabulate import tabulate\n",
        "from prettytable import PrettyTable\n",
        "from google.colab import drive\n",
        "\n",
        "# Download latest version of Kagglehub, along with the file\n",
        "path = kagglehub.dataset_download(\"fratzcan/usa-house-prices\")\n",
        "\n",
        "print(\"Path to dataset files:\", path)\n",
        "\n",
        "#Finding the name of the files and where it's located\n",
        "files = os.listdir(path)\n",
        "print(\"Files in dataset folder:\", files)\n",
        "\n",
        "#Search the files for one that ends in .csv assuming theres no other ones\n",
        "data = [f for f in files if f.endswith(\".csv\")]\n",
        "\n",
        "#Running/ finding the file\n",
        "if data:\n",
        "    csv_path = os.path.join(path, data[0])  # Get the first (and should be only) CSV file\n",
        "    data = pd.read_csv(csv_path)\n",
        "\n",
        "print(type(data))"
      ]
    },
    {
      "cell_type": "code",
      "source": [
        "data.info()"
      ],
      "metadata": {
        "colab": {
          "base_uri": "https://localhost:8080/"
        },
        "id": "qu7tvZ8UqdyH",
        "outputId": "6ee7236c-42eb-42a7-9a4b-edd023324139"
      },
      "execution_count": 2,
      "outputs": [
        {
          "output_type": "stream",
          "name": "stdout",
          "text": [
            "<class 'pandas.core.frame.DataFrame'>\n",
            "RangeIndex: 4140 entries, 0 to 4139\n",
            "Data columns (total 18 columns):\n",
            " #   Column         Non-Null Count  Dtype  \n",
            "---  ------         --------------  -----  \n",
            " 0   date           4140 non-null   object \n",
            " 1   price          4140 non-null   float64\n",
            " 2   bedrooms       4140 non-null   float64\n",
            " 3   bathrooms      4140 non-null   float64\n",
            " 4   sqft_living    4140 non-null   int64  \n",
            " 5   sqft_lot       4140 non-null   int64  \n",
            " 6   floors         4140 non-null   float64\n",
            " 7   waterfront     4140 non-null   int64  \n",
            " 8   view           4140 non-null   int64  \n",
            " 9   condition      4140 non-null   int64  \n",
            " 10  sqft_above     4140 non-null   int64  \n",
            " 11  sqft_basement  4140 non-null   int64  \n",
            " 12  yr_built       4140 non-null   int64  \n",
            " 13  yr_renovated   4140 non-null   int64  \n",
            " 14  street         4140 non-null   object \n",
            " 15  city           4140 non-null   object \n",
            " 16  statezip       4140 non-null   object \n",
            " 17  country        4140 non-null   object \n",
            "dtypes: float64(4), int64(9), object(5)\n",
            "memory usage: 582.3+ KB\n"
          ]
        }
      ]
    },
    {
      "cell_type": "markdown",
      "source": [
        "###**How old is the data?**\n",
        "\n",
        "The survey was taken beginning on May 2nd, 2014, and studies ended at midnight on July 10th, 2014"
      ],
      "metadata": {
        "id": "e4lzV-45kkR9"
      }
    },
    {
      "cell_type": "code",
      "source": [
        "# Find min and max date (string comparison)\n",
        "earliest_date = data[\"date\"].min()\n",
        "latest_date = data[\"date\"].max()\n",
        "\n",
        "print(\"Earliest Date:\", earliest_date)\n",
        "print(\"Latest Date:\", latest_date)"
      ],
      "metadata": {
        "colab": {
          "base_uri": "https://localhost:8080/"
        },
        "id": "HZ2A9Ie383hB",
        "outputId": "e463d712-da72-4b7b-d80b-08040b793ec0"
      },
      "execution_count": 3,
      "outputs": [
        {
          "output_type": "stream",
          "name": "stdout",
          "text": [
            "Earliest Date: 2014-05-02 00:00:00\n",
            "Latest Date: 2014-07-10 00:00:00\n"
          ]
        }
      ]
    },
    {
      "cell_type": "markdown",
      "source": [
        "###**Where is the data located?**###\n",
        "\n",
        "All of the data is based in the United States and in multiple cities, but all the cities are based in Washington, U.S. and not in any other state. Seattle and Renton are major cities in Washington, but some red ehrrings are cities such as Auburn and Des Moines, which is a major city in Alabama and the Capital of Iowa respectfully. However, there are cities of the same name in Washington as well. Therefore, all the data is from Washington State."
      ],
      "metadata": {
        "id": "SJSAQua4r4tz"
      }
    },
    {
      "cell_type": "code",
      "source": [
        "#Counts how many different countries there are\n",
        "num_unique_countries = data[\"country\"].nunique()\n",
        "print(\"Number of unique countries:\", num_unique_countries)\n",
        "\n",
        "#Counts the amount of values associated with a country\n",
        "country_counts = data[\"city\"].value_counts()\n",
        "print(country_counts)"
      ],
      "metadata": {
        "colab": {
          "base_uri": "https://localhost:8080/"
        },
        "id": "ypV74G44qayQ",
        "outputId": "91d01e15-5065-4a3d-b17f-254216de89a4"
      },
      "execution_count": 4,
      "outputs": [
        {
          "output_type": "stream",
          "name": "stdout",
          "text": [
            "Number of unique countries: 1\n",
            "city\n",
            "Seattle               1415\n",
            "Renton                 261\n",
            "Bellevue               260\n",
            "Redmond                209\n",
            "Kent                   167\n",
            "Kirkland               166\n",
            "Issaquah               162\n",
            "Auburn                 162\n",
            "Sammamish              158\n",
            "Federal Way            131\n",
            "Shoreline              112\n",
            "Woodinville            103\n",
            "Maple Valley            90\n",
            "Mercer Island           81\n",
            "Snoqualmie              65\n",
            "Burien                  64\n",
            "Kenmore                 58\n",
            "Des Moines              52\n",
            "North Bend              45\n",
            "Covington               39\n",
            "Duvall                  39\n",
            "Lake Forest Park        33\n",
            "Newcastle               31\n",
            "Bothell                 30\n",
            "SeaTac                  29\n",
            "Enumclaw                28\n",
            "Tukwila                 28\n",
            "Vashon                  28\n",
            "Carnation               18\n",
            "Normandy Park           16\n",
            "Medina                  11\n",
            "Clyde Hill              10\n",
            "Fall City                9\n",
            "Black Diamond            7\n",
            "Pacific                  6\n",
            "Yarrow Point             4\n",
            "Ravensdale               4\n",
            "Milton                   2\n",
            "Preston                  2\n",
            "Skykomish                2\n",
            "Snoqualmie Pass          1\n",
            "Beaux Arts Village       1\n",
            "Algona                   1\n",
            "Name: count, dtype: int64\n"
          ]
        }
      ]
    },
    {
      "cell_type": "markdown",
      "source": [
        "###**How was the data acquired?**###\n",
        "\n",
        "Since the data has all of its data in the U.S and more specifically Washington State, it is safe to assume the creator recieved this information from Washington State related sets. For example, websites such as [Washington Waterfronts](https://www.washingtonwaterfronts.com/market-statistics/) contain real estate information about the state of Washington, so the people who produced this dataset could've recieved information here."
      ],
      "metadata": {
        "id": "WvA8AZcJsuw9"
      }
    },
    {
      "cell_type": "markdown",
      "source": [
        "###**What are the attributes of each dataset column? What type of data do theses attributes contain?**###\n",
        "\n",
        "The USA Housing dataset provides multiple sets of information, ranging from prices to details about the home, property, home dimensions, home statistics, and location.\n",
        "\n",
        "| Column    | Summary  | Type  |\n",
        "|-----------|----------|-------|\n",
        "|Date|The date when the property was sold. This feature helps in understanding the temporal trends in property prices. |Nominal|\n",
        "|Price| The sale price of the property in USD. This is the target variable we aim to predict. |Ratio|\n",
        "|Bedrooms| The number of bedrooms in the property. Generally, properties with more bedrooms tend to have higher prices. |Ratio|\n",
        "|Bathrooms| The number of bathrooms in the property. Similar to bedrooms, more bathrooms can increase a property’s value. |Ratio|\n",
        "|Sqft Living| The size of the living area in square feet. Larger living areas are typically associated with higher property values. |Ratio|\n",
        "|Sqft Lot| The size of the lot in square feet. Larger lots may increase a property’s desirability and value. |Ratio|\n",
        "|Floors| The number of floors in the property. Properties with multiple floors may offer more living space and appeal. |Ratio|\n",
        "|Waterfront| A binary indicator (1 if the property has a waterfront view, 0 other-wise). Properties with waterfront views are often valued higher. |Nominal|\n",
        "|View| An index from 0 to 4 indicating the quality of the property’s view. Better views are likely to enhance a property’s value. |Ordinal|\n",
        "|Condition| An index from 1 to 5 rating the condition of the property. Properties in better condition are typically worth more. |Ordinal|\n",
        "|Sqft Above| The square footage of the property above the basement. This can help isolate the value contribution of above-ground space. |Ratio|\n",
        "|Sqft Basement| The square footage of the basement. Basements may add value depending on their usability. |Ratio|\n",
        "|Yr Built| The year the property was built. Older properties may have historical value, while newer ones may offer modern amenities. |Interval|\n",
        "|Yr Renovated| The year the property was last renovated. Recent renovations can increase a property’s appeal and value. |Interval|\n",
        "|Street| The street address of the property. This feature can be used to analyze location-specific price trends. |Nominal|\n",
        "|City| The city where the property is located. Different cities have distinct market dynamics. |Nominal|\n",
        "|Statezip| The state and zip code of the property. This feature provides regional context for the property. |Nominal|\n",
        "|Country| The country where the property is located. While this dataset focuses on properties in Australia, this feature is included for completeness. |Nominal|"
      ],
      "metadata": {
        "id": "yk9m68E9up6P"
      }
    },
    {
      "cell_type": "markdown",
      "source": [
        "###**What is the summary of the data?**###\n",
        "\n",
        "Getting a summary of the data lets us know the crucial information about what we're working with. This summary analysis displays the mean, median, mode, range, standard deviation, and number of missing values per column of quantitative data in the dataset. For this analysis, I want to look at the summaries of the prices of the homes, visualize it theough graphs, and see where the mean and median appear in accordance to the graphs."
      ],
      "metadata": {
        "id": "pu80-2R3LlYE"
      }
    },
    {
      "cell_type": "code",
      "source": [
        "# Initialize dictionaries for numerical and categorical summaries\n",
        "numerical_stats = {}\n",
        "categorical_stats = {}\n",
        "\n",
        "# Columns to treat as categorical despite being numerical\n",
        "force_categorical = {'waterfront', 'view', 'yr_renovated'}\n",
        "\n",
        "# Iterate over all columns in the DataFrame\n",
        "for col in data.columns:\n",
        "    if data[col].dtype in ['int64', 'float64'] and col not in force_categorical:  # Numerical columns\n",
        "        col_mode = data[col].mode()\n",
        "        mode_value = col_mode[0] if not col_mode.empty else None\n",
        "\n",
        "        # Compute only relevant statistics\n",
        "        stats = {\n",
        "            \"Mean\": data[col].mean(),\n",
        "            \"Median\": data[col].median(),\n",
        "            \"Mode\": mode_value,\n",
        "            \"Range\": data[col].max() - data[col].min(),\n",
        "            \"Std Dev\": data[col].std(),\n",
        "            \"NAs\": data[col].isna().sum()\n",
        "        }\n",
        "\n",
        "        numerical_stats[col] = {k: v for k, v in stats.items() if v is not None}\n",
        "\n",
        "    elif data[col].dtype == 'object' or col in force_categorical:  # Categorical columns + forced ones\n",
        "        col_mode = data[col].mode()\n",
        "        mode_value = col_mode[0] if not col_mode.empty else None\n",
        "        mode_count = data[col].value_counts().iloc[0] if not col_mode.empty else 0  # Get count of most common value\n",
        "\n",
        "        categorical_stats[col] = {\n",
        "            \"Most Common\": mode_value,\n",
        "            \"Most Common Count\": mode_count,  # New field for frequency\n",
        "            \"Unique Count\": data[col].nunique(),\n",
        "            \"NAs\": data[col].isna().sum()\n",
        "        }\n",
        "\n",
        "# Convert dictionaries to DataFrames\n",
        "numerical_df = pd.DataFrame(numerical_stats).T  # Transpose for better formatting\n",
        "categorical_df = pd.DataFrame(categorical_stats).T\n",
        "\n",
        "# --- Create PrettyTable for Numerical Data ---\n",
        "numTable = PrettyTable()\n",
        "numTable.field_names = [\"Column\", \"Mean\", \"Median\", \"Mode\", \"Range\", \"Std Dev\", \"NAs\"]\n",
        "\n",
        "# Add rows to numerical table\n",
        "for col in numerical_df.index:\n",
        "    numTable.add_row([col] + list(numerical_df.loc[col]))\n",
        "\n",
        "print(\"\\n Numerical Summary Table:\")\n",
        "print(numTable)\n",
        "\n",
        "# --- Create PrettyTable for Categorical Data ---\n",
        "catTable = PrettyTable()\n",
        "catTable.field_names = [\"Column\", \"Most Common\", \"Most Common Count\", \"Unique Count\", \"NAs\"]\n",
        "\n",
        "# Add rows to categorical table\n",
        "for col in categorical_df.index:\n",
        "    catTable.add_row([col] + list(categorical_df.loc[col]))\n",
        "\n",
        "print(\"\\n Categorical Summary Table:\")\n",
        "print(catTable)"
      ],
      "metadata": {
        "colab": {
          "base_uri": "https://localhost:8080/"
        },
        "id": "scjo4ZhT3hBZ",
        "outputId": "96c4a34b-7977-4589-fa92-788edf6d946a"
      },
      "execution_count": 10,
      "outputs": [
        {
          "output_type": "stream",
          "name": "stdout",
          "text": [
            "\n",
            " Numerical Summary Table:\n",
            "+---------------+--------------------+----------+--------+------------+--------------------+-----+\n",
            "|     Column    |        Mean        |  Median  |  Mode  |   Range    |      Std Dev       | NAs |\n",
            "+---------------+--------------------+----------+--------+------------+--------------------+-----+\n",
            "|     price     | 553062.8772890784  | 460000.0 |  0.0   | 26590000.0 |  583686.452244623  | 0.0 |\n",
            "|    bedrooms   |  3.40048309178744  |   3.0    |  3.0   |    8.0     | 0.9039387963928299 | 0.0 |\n",
            "|   bathrooms   | 2.1630434782608696 |   2.25   |  2.5   |    6.75    | 0.7847330168593593 | 0.0 |\n",
            "|  sqft_living  | 2143.6388888888887 |  1980.0  | 1720.0 |   9670.0   | 957.4816210435177  | 0.0 |\n",
            "|    sqft_lot   | 14697.638164251208 |  7676.0  | 5000.0 | 1073580.0  | 35876.83812300456  | 0.0 |\n",
            "|     floors    | 1.5141304347826088 |   1.5    |  1.0   |    2.5     | 0.5349408589117917 | 0.0 |\n",
            "|   condition   | 3.4524154589371983 |   3.0    |  3.0   |    4.0     | 0.6785332028868124 | 0.0 |\n",
            "|   sqft_above  | 1831.3514492753623 |  1600.0  | 1200.0 |   7650.0   | 861.3829469017649  | 0.0 |\n",
            "| sqft_basement | 312.28743961352654 |   0.0    |  0.0   |   4820.0   | 464.3492215480328  | 0.0 |\n",
            "|    yr_built   | 1970.8140096618358 |  1976.0  | 2005.0 |   114.0    | 29.807941184867335 | 0.0 |\n",
            "+---------------+--------------------+----------+--------+------------+--------------------+-----+\n",
            "\n",
            " Categorical Summary Table:\n",
            "+--------------+-----------------------+-------------------+--------------+-----+\n",
            "|    Column    |      Most Common      | Most Common Count | Unique Count | NAs |\n",
            "+--------------+-----------------------+-------------------+--------------+-----+\n",
            "|     date     |  2014-06-23 00:00:00  |        142        |      68      |  0  |\n",
            "|  waterfront  |           0           |        4109       |      2       |  0  |\n",
            "|     view     |           0           |        3722       |      5       |  0  |\n",
            "| yr_renovated |           0           |        2462       |      60      |  0  |\n",
            "|    street    | 2520 Mulberry Walk NE |         4         |     4079     |  0  |\n",
            "|     city     |        Seattle        |        1415       |      43      |  0  |\n",
            "|   statezip   |        WA 98103       |        128        |      77      |  0  |\n",
            "|   country    |          USA          |        4140       |      1       |  0  |\n",
            "+--------------+-----------------------+-------------------+--------------+-----+\n"
          ]
        }
      ]
    },
    {
      "cell_type": "markdown",
      "source": [
        "###**Learning about the price**###\n",
        "\n",
        "The first major question is the mean and median amount of price and what it looks like on a graph. However, to visualize it better, it's best to remove outliars that skew the graph too far to actually visualize anything. Therefore, without major outliars, we can see the image of approximately where the mean and median is located."
      ],
      "metadata": {
        "id": "Q2uIzV1iudX3"
      }
    },
    {
      "cell_type": "code",
      "source": [
        "def remove_outliers(df, column):\n",
        "    Q1 = df[column].quantile(0.25)  # 25th percentile\n",
        "    Q3 = df[column].quantile(0.75)  # 75th percentile\n",
        "    IQR = Q3 - Q1  # Interquartile range\n",
        "\n",
        "    # Define the range for non-outlier values\n",
        "    lower_bound = Q1 - 1.5 * IQR\n",
        "    upper_bound = Q3 + 1.5 * IQR\n",
        "\n",
        "    # Filter the DataFrame to exclude outliers\n",
        "    return df[(df[column] >= lower_bound) & (df[column] <= upper_bound)]\n",
        "\n",
        "# Apply the function to remove outliers for a specific column, e.g., 'column_name'\n",
        "filtered_data_price = remove_outliers(data, 'price')\n",
        "\n",
        "# Calculate mean and median of the filtered data\n",
        "mean_price = data['price'].mean()\n",
        "median_price = data['price'].median()\n",
        "\n",
        "# Plot histogram\n",
        "plt.figure(figsize=(10, 6))\n",
        "plt.hist(filtered_data_price['price'], bins = 58, color = 'orange', alpha = 1, edgecolor = \"black\")\n",
        "\n",
        "# Add vertical line for mean\n",
        "plt.axvline(mean_price, color = 'blue', linestyle = 'dashed', linewidth = 2, label = f'Mean: {mean_price:.2f}')\n",
        "\n",
        "# Add vertical line for median\n",
        "plt.axvline(median_price, color = 'green', linestyle = 'solid', linewidth = 2, label = f'Median: {median_price:.2f}')\n",
        "\n",
        "# Titles and labels\n",
        "plt.title('Price Histogram Without Major Outliers')\n",
        "plt.xlabel('Price')\n",
        "plt.ylabel('Frequency')\n",
        "\n",
        "# Show legend for mean and median lines\n",
        "plt.legend()\n",
        "\n",
        "# Show the plot\n",
        "plt.show()"
      ],
      "metadata": {
        "colab": {
          "base_uri": "https://localhost:8080/",
          "height": 564
        },
        "id": "Bnz6aBR7u0wx",
        "outputId": "db04459e-64df-49dc-affb-7e9dc421a36c"
      },
      "execution_count": 6,
      "outputs": [
        {
          "output_type": "display_data",
          "data": {
            "text/plain": [
              "<Figure size 1000x600 with 1 Axes>"
            ],
            "image/png": "[encoded data removed]"
          },
          "metadata": {}
        }
      ]
    },
    {
      "cell_type": "markdown",
      "source": [
        "###**Conclusion of Price Graph**\n",
        "\n",
        "The graph does tell us many points that are also presented in the table from earlier. For example, the mode was defined as 0, which can be seen at value 0 with over 50 values under the category of price $0. The mean can also be visualized at nearly the middle of the entire graph, whereas the median is shifted to the left, signifying a right skewed curve and graph."
      ],
      "metadata": {
        "id": "5duqZa5OGBxg"
      }
    },
    {
      "cell_type": "markdown",
      "source": [
        "###**Comparing to another plot of information**###\n",
        "\n",
        "When looking at another real estate data set that compares some similar assets, for example the price, we can see how our first dataset may be of relation to another dataset. Therefore, this new dataset is useful in complimenting our first one."
      ],
      "metadata": {
        "id": "Q5rHo-XgOjV2"
      }
    },
    {
      "cell_type": "code",
      "source": [
        "path2 = kagglehub.dataset_download(\"anthonypino/melbourne-housing-market\")\n",
        "\n",
        "print(\"Path to dataset files:\", path2)\n",
        "\n",
        "#Finding the name of the second file and where it's located\n",
        "files2 = os.listdir(path2)\n",
        "print(\"Files in dataset folder:\", files2)\n",
        "\n",
        "#Search the files for one that ends in .csv assuming theres no other ones\n",
        "data2 = [j for j in files2 if j.endswith(\".csv\")]\n",
        "\n",
        "#Running/ finding the second\n",
        "if data2:\n",
        "    csv_path2 = os.path.join(path2, data2[0])  # Get the first (and should be only) CSV file of Melbourne Housing\n",
        "    data2 = pd.read_csv(csv_path2)\n",
        "\n",
        "print(type(data2))"
      ],
      "metadata": {
        "id": "h4TsSQnKit27",
        "colab": {
          "base_uri": "https://localhost:8080/"
        },
        "outputId": "bbad8ba8-8f67-4c5e-b473-6385b5c544fa"
      },
      "execution_count": 7,
      "outputs": [
        {
          "output_type": "stream",
          "name": "stdout",
          "text": [
            "Warning: Looks like you're using an outdated `kagglehub` version (installed: 0.3.10), please consider upgrading to the latest version (0.3.11).\n",
            "Downloading from https://www.kaggle.com/api/v1/datasets/download/anthonypino/melbourne-housing-market?dataset_version_number=27...\n"
          ]
        },
        {
          "output_type": "stream",
          "name": "stderr",
          "text": [
            "100%|██████████| 2.28M/2.28M [00:00<00:00, 108MB/s]"
          ]
        },
        {
          "output_type": "stream",
          "name": "stdout",
          "text": [
            "Extracting files...\n",
            "Path to dataset files: /root/.cache/kagglehub/datasets/anthonypino/melbourne-housing-market/versions/27\n",
            "Files in dataset folder: ['Melbourne_housing_FULL.csv', 'MELBOURNE_HOUSE_PRICES_LESS.csv']\n"
          ]
        },
        {
          "output_type": "stream",
          "name": "stderr",
          "text": [
            "\n"
          ]
        },
        {
          "output_type": "stream",
          "name": "stdout",
          "text": [
            "<class 'pandas.core.frame.DataFrame'>\n"
          ]
        }
      ]
    },
    {
      "cell_type": "code",
      "source": [
        "data2.info()"
      ],
      "metadata": {
        "id": "Q2OqBtPeoVsh",
        "colab": {
          "base_uri": "https://localhost:8080/"
        },
        "outputId": "791b15b2-72c3-4d49-e28b-f7d11c38de47"
      },
      "execution_count": 8,
      "outputs": [
        {
          "output_type": "stream",
          "name": "stdout",
          "text": [
            "<class 'pandas.core.frame.DataFrame'>\n",
            "RangeIndex: 34857 entries, 0 to 34856\n",
            "Data columns (total 21 columns):\n",
            " #   Column         Non-Null Count  Dtype  \n",
            "---  ------         --------------  -----  \n",
            " 0   Suburb         34857 non-null  object \n",
            " 1   Address        34857 non-null  object \n",
            " 2   Rooms          34857 non-null  int64  \n",
            " 3   Type           34857 non-null  object \n",
            " 4   Price          27247 non-null  float64\n",
            " 5   Method         34857 non-null  object \n",
            " 6   SellerG        34857 non-null  object \n",
            " 7   Date           34857 non-null  object \n",
            " 8   Distance       34856 non-null  float64\n",
            " 9   Postcode       34856 non-null  float64\n",
            " 10  Bedroom2       26640 non-null  float64\n",
            " 11  Bathroom       26631 non-null  float64\n",
            " 12  Car            26129 non-null  float64\n",
            " 13  Landsize       23047 non-null  float64\n",
            " 14  BuildingArea   13742 non-null  float64\n",
            " 15  YearBuilt      15551 non-null  float64\n",
            " 16  CouncilArea    34854 non-null  object \n",
            " 17  Lattitude      26881 non-null  float64\n",
            " 18  Longtitude     26881 non-null  float64\n",
            " 19  Regionname     34854 non-null  object \n",
            " 20  Propertycount  34854 non-null  float64\n",
            "dtypes: float64(12), int64(1), object(8)\n",
            "memory usage: 5.6+ MB\n"
          ]
        }
      ]
    },
    {
      "cell_type": "markdown",
      "source": [
        "###**Summary statistics of second dataset**###\n",
        "\n",
        "This dataset has something that the original dataset didn't: missing information. To combat this, I want to use what information I have that doesn't have missing values to draw a conclusion, since the dataset stores hundreds of price values. An advantage however is the lack of prices that cost 0 dollars, as seen with the first dataset. The mode for this information is a high value of $600,000."
      ],
      "metadata": {
        "id": "CreYeAIPPV9W"
      }
    },
    {
      "cell_type": "code",
      "source": [
        "# Initialize a dictionary to hold the summary statistics for each column\n",
        "summary_stats2 = {}\n",
        "\n",
        "# Iterate over all columns in the DataFrame\n",
        "for col in data2.columns:\n",
        "    if data2[col].dtype in ['int64', 'float64']:  # Only compute stats for numerical columns\n",
        "        summary_stats2[col] = {\n",
        "            \"Mean\": data2[col].mean(),\n",
        "            \"Median\": data2[col].median(),\n",
        "            \"Mode\": data2[col].mode()[0],  # Mode can return multiple values, so we take the first\n",
        "            \"Range\": data2[col].max() - data2[col].min(),\n",
        "            \"Std Dev\": data2[col].std(),\n",
        "            \"NAs\": data2[col].isna().sum()\n",
        "        }\n",
        "\n",
        "# Convert dictionary to DataFrame\n",
        "summary_df2 = pd.DataFrame(summary_stats2).T  # Transpose for proper formatting\n",
        "\n",
        "# Create a PrettyTable\n",
        "pTable2 = PrettyTable()\n",
        "pTable2.field_names = [\"Column\", \"Mean\", \"Median\", \"Mode\", \"Range\", \"Std Dev\", \"NAs\"]\n",
        "\n",
        "# Add rows to PrettyTable\n",
        "for col in summary_df2.index:\n",
        "    pTable2.add_row([col] + list(summary_df2.loc[col]))\n",
        "\n",
        "# Print the PrettyTable\n",
        "print(pTable2)"
      ],
      "metadata": {
        "id": "GhuwaHCyokDu",
        "colab": {
          "base_uri": "https://localhost:8080/"
        },
        "outputId": "23aff747-294c-4e0f-ed9e-e04a741dc607"
      },
      "execution_count": 9,
      "outputs": [
        {
          "output_type": "stream",
          "name": "stdout",
          "text": [
            "+---------------+---------------------+----------+----------+--------------------+---------------------+---------+\n",
            "|     Column    |         Mean        |  Median  |   Mode   |       Range        |       Std Dev       |   NAs   |\n",
            "+---------------+---------------------+----------+----------+--------------------+---------------------+---------+\n",
            "|     Rooms     |  3.0310124221820582 |   3.0    |   3.0    |        15.0        |  0.9699329348973645 |   0.0   |\n",
            "|     Price     |  1050173.344955408  | 870000.0 | 600000.0 |     11115000.0     |  641467.1301046012  |  7610.0 |\n",
            "|    Distance   |  11.18492942391554  |   10.3   |   11.2   |        48.1        |  6.788892455936133  |   1.0   |\n",
            "|    Postcode   |  3116.062858618315  |  3103.0  |  3073.0  |       978.0        |  109.02390274290785 |   1.0   |\n",
            "|    Bedroom2   |  3.0846471471471473 |   3.0    |   3.0    |        30.0        |  0.9806897285460696 |  8217.0 |\n",
            "|    Bathroom   |  1.624798167549097  |   2.0    |   1.0    |        12.0        |  0.7242120114700618 |  8226.0 |\n",
            "|      Car      |  1.7288453442535114 |   2.0    |   2.0    |        26.0        |  1.0107707853554326 |  8728.0 |\n",
            "|    Landsize   |   593.598993361392  |  521.0   |   0.0    |      433014.0      |  3398.8419464599174 | 11810.0 |\n",
            "|  BuildingArea |  160.2564003565711  |  136.0   |  120.0   |      44515.0       |  401.2670600848548  | 21115.0 |\n",
            "|   YearBuilt   |  1965.289884894862  |  1970.0  |  1970.0  |       910.0        |  37.32817802313659  | 19306.0 |\n",
            "|   Lattitude   | -37.810634295599115 | -37.8076 | -37.8361 | 0.8002299999999991 | 0.09027890450922453 |  7976.0 |\n",
            "|   Longtitude  |  145.00185113165432 | 145.0078 | 144.9966 | 1.102560000000011  | 0.12016876915352226 |  7976.0 |\n",
            "| Propertycount |  7572.8883055029555 |  6763.0  | 21650.0  |      21567.0       |  4428.090313274554  |   3.0   |\n",
            "+---------------+---------------------+----------+----------+--------------------+---------------------+---------+\n"
          ]
        }
      ]
    }
  ]
}